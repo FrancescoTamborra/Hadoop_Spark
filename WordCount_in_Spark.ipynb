{
 "cells": [
  {
   "cell_type": "code",
   "execution_count": 3,
   "metadata": {},
   "outputs": [
    {
     "name": "stdout",
     "output_type": "stream",
     "text": [
      "sole 2\n",
      "cuore 1\n",
      "amore 2\n",
      "cane 2\n",
      "gatto 2\n",
      "culo 1\n"
     ]
    }
   ],
   "source": [
    "from pyspark import SparkContext\n",
    "\n",
    "# Instantiation d'un SparkContext\n",
    "\n",
    "#sc.stop()\n",
    "sc = SparkContext()\n",
    "\n",
    "\n",
    "# Lecture d'un fichier texte : le fichier est décomposé en lignes.\n",
    "lines = sc.textFile(\"text.txt\")\n",
    "\n",
    "# Décomposition de chaque ligne en mots\n",
    "word_counts = lines.flatMap(lambda line: line.split(' ')) \\\n",
    "                   .map(lambda word: (word, 1)) \\\n",
    "                   .reduceByKey(lambda count1, count2: count1 + count2) \\\n",
    "                   .collect()\n",
    "\n",
    "# Chaque paire (clé, valeur) est affichée\n",
    "for (word, count) in word_counts:\n",
    "    print(word, count)"
   ]
  },
  {
   "cell_type": "code",
   "execution_count": 10,
   "metadata": {},
   "outputs": [],
   "source": [
    "# Utilisation de tous les cœurs disponibles \n",
    "## time ./bin/spark-submit ./wordcount.py ./text.txt\n",
    "\n",
    "# > real\t0m8.491s\n",
    "# > user\t0m16.142s\n",
    "# > sys \t0m1.154s\n",
    "\n",
    "# Utilisation d'un seul cœur\n",
    "## time ./bin/spark-submit --master local[1] ./wordcount.py ./text.txt\n",
    "\n",
    "# > real\t0m8.072s\n",
    "# > user\t0m14.230s\n",
    "# > sys \t0m1.062s"
   ]
  },
  {
   "cell_type": "code",
   "execution_count": 13,
   "metadata": {},
   "outputs": [
    {
     "name": "stdout",
     "output_type": "stream",
     "text": [
      "[(1, ('a1', 'a2')), (2, ('b1', 'b2'))]\n",
      "[(1, ('a1', 'a2')), (2, ('b1', 'b2')), (3, (None, 'c2'))]\n"
     ]
    }
   ],
   "source": [
    "# Example of join:\n",
    "rdd1 = sc.parallelize([(1, \"a1\"), (2, \"b1\")])\n",
    "rdd2 = sc.parallelize([(1, \"a2\"), (2, \"b2\"), (3, \"c2\")])\n",
    "\n",
    "first_join = rdd1.join(rdd2).collect()\n",
    "print(first_join)\n",
    "#[(1, ('a1', 'a2')), (2, ('b1', 'b2'))]\n",
    "\n",
    "second_join = rdd1.rightOuterJoin(rdd2).collect()\n",
    "print(second_join)\n",
    "#[(1, ('a1', 'a2')), (2, ('b1', 'b2')), (3, (None, 'c2'))]\n"
   ]
  },
  {
   "cell_type": "code",
   "execution_count": null,
   "metadata": {},
   "outputs": [],
   "source": []
  }
 ],
 "metadata": {
  "kernelspec": {
   "display_name": "Python 3",
   "language": "python",
   "name": "python3"
  },
  "language_info": {
   "codemirror_mode": {
    "name": "ipython",
    "version": 3
   },
   "file_extension": ".py",
   "mimetype": "text/x-python",
   "name": "python",
   "nbconvert_exporter": "python",
   "pygments_lexer": "ipython3",
   "version": "3.7.3"
  }
 },
 "nbformat": 4,
 "nbformat_minor": 2
}
