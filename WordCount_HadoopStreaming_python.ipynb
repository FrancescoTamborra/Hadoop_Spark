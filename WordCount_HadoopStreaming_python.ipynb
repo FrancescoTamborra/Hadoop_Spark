{
 "cells": [
  {
   "cell_type": "code",
   "execution_count": 1,
   "metadata": {},
   "outputs": [],
   "source": [
    "# MAPPER\n",
    "\n",
    "#! /usr/bin/env python3\n",
    "import sys\n",
    "\n",
    "for line in sys.stdin:\n",
    "    # Supprimer les espaces\n",
    "    line = line.strip()\n",
    "    # recupérer les mots\n",
    "    words = line.split()\n",
    "\n",
    "    # operation map, pour chaque mot, generer la paire (mot, 1)\n",
    "    for word in words:\n",
    "        print(\"%s\\t%d\" % (word, 1))"
   ]
  },
  {
   "cell_type": "code",
   "execution_count": 2,
   "metadata": {},
   "outputs": [],
   "source": [
    "# REDUCER\n",
    "\n",
    "#! /usr/bin/env python3\n",
    "\n",
    "import sys\n",
    "total = 0\n",
    "lastword = None\n",
    "\n",
    "for line in sys.stdin:\n",
    "    line = line.strip()\n",
    "\n",
    "    # recuperer la cle et la valeur et conversion de la valeur en int\n",
    "    word, count = line.split()\n",
    "    count = int(count)\n",
    "\n",
    "    # passage au mot suivant (plusieurs cles possibles pour une même exécution de programme)\n",
    "    if lastword is None:\n",
    "        lastword = word\n",
    "    if word == lastword:\n",
    "        total += count\n",
    "    else:\n",
    "        print(\"%s\\t%d occurences\" % (lastword, total))\n",
    "        total = count\n",
    "        lastword = word\n",
    "        \n",
    "if lastword is not None:\n",
    "    print(\"%s\\t%d occurences\" % (lastword, total))"
   ]
  },
  {
   "cell_type": "code",
   "execution_count": 3,
   "metadata": {},
   "outputs": [
    {
     "ename": "SyntaxError",
     "evalue": "invalid syntax (<ipython-input-3-5b98d167d19e>, line 3)",
     "output_type": "error",
     "traceback": [
      "\u001b[0;36m  File \u001b[0;32m\"<ipython-input-3-5b98d167d19e>\"\u001b[0;36m, line \u001b[0;32m3\u001b[0m\n\u001b[0;31m    $ hadoop jar hadoop-streaming.jar -input /lejourseleve.txt -output /results -mapper ./WordCountMapper.py -reducer ./WordCountReducer.py\u001b[0m\n\u001b[0m    ^\u001b[0m\n\u001b[0;31mSyntaxError\u001b[0m\u001b[0;31m:\u001b[0m invalid syntax\n"
     ]
    }
   ],
   "source": [
    "# To launch from terminal:\n",
    "\n",
    "$ hadoop jar hadoop-streaming.jar -input /lejourseleve.txt -output /results -mapper ./WordCountMapper.py -reducer ./WordCountReducer.py"
   ]
  },
  {
   "cell_type": "code",
   "execution_count": null,
   "metadata": {},
   "outputs": [],
   "source": []
  }
 ],
 "metadata": {
  "kernelspec": {
   "display_name": "Python 3",
   "language": "python",
   "name": "python3"
  },
  "language_info": {
   "codemirror_mode": {
    "name": "ipython",
    "version": 3
   },
   "file_extension": ".py",
   "mimetype": "text/x-python",
   "name": "python",
   "nbconvert_exporter": "python",
   "pygments_lexer": "ipython3",
   "version": "3.7.3"
  }
 },
 "nbformat": 4,
 "nbformat_minor": 2
}
